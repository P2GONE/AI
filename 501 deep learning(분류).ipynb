{
 "cells": [
  {
   "cell_type": "code",
   "execution_count": 2,
   "id": "65d64546",
   "metadata": {},
   "outputs": [],
   "source": [
    "import matplotlib.pyplot as plt\n",
    "from sklearn.model_selection import train_test_split\n",
    "from sklearn.preprocessing import StandardScaler, LabelEncoder\n",
    "from sklearn.neighbors import KNeighborsClassifier\n",
    "import seaborn as sns\n",
    "import matplotlib.pyplot as plt\n",
    "import pandas as pd\n",
    "import seaborn as sns\n",
    "import numpy as np\n",
    "\n",
    "import pathlib\n",
    "import tensorflow as tf\n",
    "from tensorflow import keras\n",
    "from tensorflow.keras import layers"
   ]
  },
  {
   "cell_type": "code",
   "execution_count": 3,
   "id": "bdcbe552",
   "metadata": {},
   "outputs": [
    {
     "data": {
      "text/html": [
       "<div>\n",
       "<style scoped>\n",
       "    .dataframe tbody tr th:only-of-type {\n",
       "        vertical-align: middle;\n",
       "    }\n",
       "\n",
       "    .dataframe tbody tr th {\n",
       "        vertical-align: top;\n",
       "    }\n",
       "\n",
       "    .dataframe thead th {\n",
       "        text-align: right;\n",
       "    }\n",
       "</style>\n",
       "<table border=\"1\" class=\"dataframe\">\n",
       "  <thead>\n",
       "    <tr style=\"text-align: right;\">\n",
       "      <th></th>\n",
       "      <th>back_x</th>\n",
       "      <th>back_y</th>\n",
       "      <th>back_z</th>\n",
       "      <th>thigh_x</th>\n",
       "      <th>thigh_y</th>\n",
       "      <th>thigh_z</th>\n",
       "      <th>label</th>\n",
       "    </tr>\n",
       "    <tr>\n",
       "      <th>timestamp</th>\n",
       "      <th></th>\n",
       "      <th></th>\n",
       "      <th></th>\n",
       "      <th></th>\n",
       "      <th></th>\n",
       "      <th></th>\n",
       "      <th></th>\n",
       "    </tr>\n",
       "  </thead>\n",
       "  <tbody>\n",
       "    <tr>\n",
       "      <th>42:03.8</th>\n",
       "      <td>-0.999023</td>\n",
       "      <td>-0.063477</td>\n",
       "      <td>0.140625</td>\n",
       "      <td>-0.980469</td>\n",
       "      <td>-0.112061</td>\n",
       "      <td>-0.048096</td>\n",
       "      <td>6</td>\n",
       "    </tr>\n",
       "    <tr>\n",
       "      <th>42:03.9</th>\n",
       "      <td>-0.980225</td>\n",
       "      <td>-0.079346</td>\n",
       "      <td>0.140625</td>\n",
       "      <td>-0.961182</td>\n",
       "      <td>-0.121582</td>\n",
       "      <td>-0.051758</td>\n",
       "      <td>6</td>\n",
       "    </tr>\n",
       "    <tr>\n",
       "      <th>42:03.9</th>\n",
       "      <td>-0.950195</td>\n",
       "      <td>-0.076416</td>\n",
       "      <td>0.140625</td>\n",
       "      <td>-0.949463</td>\n",
       "      <td>-0.080566</td>\n",
       "      <td>-0.067139</td>\n",
       "      <td>6</td>\n",
       "    </tr>\n",
       "    <tr>\n",
       "      <th>42:03.9</th>\n",
       "      <td>-0.954834</td>\n",
       "      <td>-0.059082</td>\n",
       "      <td>0.140381</td>\n",
       "      <td>-0.957520</td>\n",
       "      <td>-0.046143</td>\n",
       "      <td>-0.050781</td>\n",
       "      <td>6</td>\n",
       "    </tr>\n",
       "    <tr>\n",
       "      <th>42:03.9</th>\n",
       "      <td>-0.972412</td>\n",
       "      <td>-0.042969</td>\n",
       "      <td>0.142822</td>\n",
       "      <td>-0.977051</td>\n",
       "      <td>-0.023682</td>\n",
       "      <td>-0.026611</td>\n",
       "      <td>6</td>\n",
       "    </tr>\n",
       "  </tbody>\n",
       "</table>\n",
       "</div>"
      ],
      "text/plain": [
       "             back_x    back_y    back_z   thigh_x   thigh_y   thigh_z  label\n",
       "timestamp                                                                   \n",
       "42:03.8   -0.999023 -0.063477  0.140625 -0.980469 -0.112061 -0.048096      6\n",
       "42:03.9   -0.980225 -0.079346  0.140625 -0.961182 -0.121582 -0.051758      6\n",
       "42:03.9   -0.950195 -0.076416  0.140625 -0.949463 -0.080566 -0.067139      6\n",
       "42:03.9   -0.954834 -0.059082  0.140381 -0.957520 -0.046143 -0.050781      6\n",
       "42:03.9   -0.972412 -0.042969  0.142822 -0.977051 -0.023682 -0.026611      6"
      ]
     },
     "execution_count": 3,
     "metadata": {},
     "output_type": "execute_result"
    }
   ],
   "source": [
    "data= pd.read_csv('C:/Users/charl/Downloads/501.csv', index_col=0)\n",
    "data.head()"
   ]
  },
  {
   "cell_type": "code",
   "execution_count": 4,
   "id": "7b90dac6",
   "metadata": {},
   "outputs": [
    {
     "data": {
      "text/plain": [
       "back_x     0\n",
       "back_y     0\n",
       "back_z     0\n",
       "thigh_x    0\n",
       "thigh_y    0\n",
       "thigh_z    0\n",
       "label      0\n",
       "dtype: int64"
      ]
     },
     "execution_count": 4,
     "metadata": {},
     "output_type": "execute_result"
    }
   ],
   "source": [
    "data.isna().sum()"
   ]
  },
  {
   "cell_type": "code",
   "execution_count": 5,
   "id": "d99640f8",
   "metadata": {},
   "outputs": [],
   "source": [
    "data= data.dropna()"
   ]
  },
  {
   "cell_type": "code",
   "execution_count": 6,
   "id": "18edf678",
   "metadata": {},
   "outputs": [
    {
     "data": {
      "text/plain": [
       "back_x     0\n",
       "back_y     0\n",
       "back_z     0\n",
       "thigh_x    0\n",
       "thigh_y    0\n",
       "thigh_z    0\n",
       "label      0\n",
       "dtype: int64"
      ]
     },
     "execution_count": 6,
     "metadata": {},
     "output_type": "execute_result"
    }
   ],
   "source": [
    "\n",
    "data.isna().sum()"
   ]
  },
  {
   "cell_type": "code",
   "execution_count": 7,
   "id": "eee0f4e5",
   "metadata": {},
   "outputs": [
    {
     "data": {
      "text/plain": [
       "1    62872\n",
       "7    14562\n",
       "6    14376\n",
       "8     9578\n",
       "3     1876\n",
       "5      504\n",
       "4       92\n",
       "Name: label, dtype: int64"
      ]
     },
     "execution_count": 7,
     "metadata": {},
     "output_type": "execute_result"
    }
   ],
   "source": [
    "data['label'].value_counts()"
   ]
  },
  {
   "cell_type": "code",
   "execution_count": 8,
   "id": "b0cf7ece",
   "metadata": {},
   "outputs": [
    {
     "data": {
      "text/plain": [
       "Text(0.5, 1.0, 'label')"
      ]
     },
     "execution_count": 8,
     "metadata": {},
     "output_type": "execute_result"
    },
    {
     "data": {
      "image/png": "[encoded data removed]",
      "text/plain": [
       "<Figure size 640x480 with 1 Axes>"
      ]
     },
     "metadata": {},
     "output_type": "display_data"
    }
   ],
   "source": [
    "sns.countplot(data = data, x=\"label\")\n",
    "plt.xlabel(\"label\")\n",
    "plt.ylabel(\"Count\")\n",
    "plt.title(\"label\")"
   ]
  },
  {
   "cell_type": "code",
   "execution_count": 9,
   "id": "2d7b6add",
   "metadata": {},
   "outputs": [],
   "source": [
    "data=data.sample(frac=0.05) \n",
    "#5%의 임의 추출"
   ]
  },
  {
   "cell_type": "code",
   "execution_count": 11,
   "id": "c44af322",
   "metadata": {},
   "outputs": [
    {
     "data": {
      "text/html": [
       "<div>\n",
       "<style scoped>\n",
       "    .dataframe tbody tr th:only-of-type {\n",
       "        vertical-align: middle;\n",
       "    }\n",
       "\n",
       "    .dataframe tbody tr th {\n",
       "        vertical-align: top;\n",
       "    }\n",
       "\n",
       "    .dataframe thead th {\n",
       "        text-align: right;\n",
       "    }\n",
       "</style>\n",
       "<table border=\"1\" class=\"dataframe\">\n",
       "  <thead>\n",
       "    <tr style=\"text-align: right;\">\n",
       "      <th></th>\n",
       "      <th>back_x</th>\n",
       "      <th>back_y</th>\n",
       "      <th>back_z</th>\n",
       "      <th>thigh_x</th>\n",
       "      <th>thigh_y</th>\n",
       "      <th>thigh_z</th>\n",
       "      <th>label</th>\n",
       "    </tr>\n",
       "    <tr>\n",
       "      <th>timestamp</th>\n",
       "      <th></th>\n",
       "      <th></th>\n",
       "      <th></th>\n",
       "      <th></th>\n",
       "      <th></th>\n",
       "      <th></th>\n",
       "      <th></th>\n",
       "    </tr>\n",
       "  </thead>\n",
       "  <tbody>\n",
       "    <tr>\n",
       "      <th>49:48.1</th>\n",
       "      <td>-0.140625</td>\n",
       "      <td>-0.015625</td>\n",
       "      <td>0.906250</td>\n",
       "      <td>-0.142334</td>\n",
       "      <td>-0.125000</td>\n",
       "      <td>-1.078125</td>\n",
       "      <td>8</td>\n",
       "    </tr>\n",
       "    <tr>\n",
       "      <th>01:57.3</th>\n",
       "      <td>-1.481689</td>\n",
       "      <td>-0.287598</td>\n",
       "      <td>-0.440918</td>\n",
       "      <td>-1.703613</td>\n",
       "      <td>-0.150391</td>\n",
       "      <td>-0.149414</td>\n",
       "      <td>1</td>\n",
       "    </tr>\n",
       "    <tr>\n",
       "      <th>16:10.9</th>\n",
       "      <td>-0.765625</td>\n",
       "      <td>-0.062500</td>\n",
       "      <td>0.562500</td>\n",
       "      <td>-0.204834</td>\n",
       "      <td>-0.200439</td>\n",
       "      <td>-1.064209</td>\n",
       "      <td>7</td>\n",
       "    </tr>\n",
       "    <tr>\n",
       "      <th>09:32.0</th>\n",
       "      <td>-0.937012</td>\n",
       "      <td>0.171875</td>\n",
       "      <td>-0.201660</td>\n",
       "      <td>-0.950928</td>\n",
       "      <td>0.028564</td>\n",
       "      <td>-0.042480</td>\n",
       "      <td>1</td>\n",
       "    </tr>\n",
       "    <tr>\n",
       "      <th>48:01.7</th>\n",
       "      <td>-0.138184</td>\n",
       "      <td>-0.015625</td>\n",
       "      <td>0.919922</td>\n",
       "      <td>-0.137207</td>\n",
       "      <td>-0.140625</td>\n",
       "      <td>-1.078125</td>\n",
       "      <td>8</td>\n",
       "    </tr>\n",
       "  </tbody>\n",
       "</table>\n",
       "</div>"
      ],
      "text/plain": [
       "             back_x    back_y    back_z   thigh_x   thigh_y   thigh_z  label\n",
       "timestamp                                                                   \n",
       "49:48.1   -0.140625 -0.015625  0.906250 -0.142334 -0.125000 -1.078125      8\n",
       "01:57.3   -1.481689 -0.287598 -0.440918 -1.703613 -0.150391 -0.149414      1\n",
       "16:10.9   -0.765625 -0.062500  0.562500 -0.204834 -0.200439 -1.064209      7\n",
       "09:32.0   -0.937012  0.171875 -0.201660 -0.950928  0.028564 -0.042480      1\n",
       "48:01.7   -0.138184 -0.015625  0.919922 -0.137207 -0.140625 -1.078125      8"
      ]
     },
     "execution_count": 11,
     "metadata": {},
     "output_type": "execute_result"
    }
   ],
   "source": [
    "data.head()"
   ]
  },
  {
   "cell_type": "code",
   "execution_count": 21,
   "id": "aa8ec829",
   "metadata": {},
   "outputs": [],
   "source": [
    "#Splitting the data into training and test test\n",
    "X = data.iloc[:,1:7].values\n",
    "#data 1부터 6열까지 가져와서 X변수에 저장\n",
    "y = data.iloc[:,6].values\n",
    "#data의  6열 값을 가져와 y의 변수에 저장\n",
    "\n",
    "from sklearn.preprocessing import LabelEncoder\n",
    "encoder =  LabelEncoder()\n",
    "y1 = encoder.fit_transform(y)\n",
    "Y = pd.get_dummies(y1).values"
   ]
  },
  {
   "cell_type": "code",
   "execution_count": 22,
   "id": "1182cedb",
   "metadata": {},
   "outputs": [],
   "source": [
    "from sklearn.model_selection import train_test_split\n",
    "X_train,X_test, y_train,y_test = train_test_split(X,Y,test_size=0.2,random_state=0) "
   ]
  },
  {
   "cell_type": "code",
   "execution_count": 23,
   "id": "f21f07b1",
   "metadata": {},
   "outputs": [
    {
     "data": {
      "text/plain": [
       "array([[-1.562500e-02,  9.062500e-01, -1.423340e-01, -1.250000e-01,\n",
       "        -1.078125e+00,  8.000000e+00],\n",
       "       [-2.875980e-01, -4.409180e-01, -1.703613e+00, -1.503910e-01,\n",
       "        -1.494140e-01,  1.000000e+00],\n",
       "       [-6.250000e-02,  5.625000e-01, -2.048340e-01, -2.004390e-01,\n",
       "        -1.064209e+00,  7.000000e+00],\n",
       "       ...,\n",
       "       [-1.406250e-01, -4.687500e-02, -9.687500e-01,  5.615000e-03,\n",
       "        -1.562500e-02,  6.000000e+00],\n",
       "       [-1.372070e-01, -2.490230e-01, -6.845700e-01, -4.492200e-02,\n",
       "        -6.206050e-01,  1.000000e+00],\n",
       "       [-1.977500e-02,  1.538100e-02, -1.384280e-01, -2.734400e-02,\n",
       "         3.671880e-01,  1.000000e+00]])"
      ]
     },
     "execution_count": 23,
     "metadata": {},
     "output_type": "execute_result"
    }
   ],
   "source": [
    "X"
   ]
  },
  {
   "cell_type": "code",
   "execution_count": 24,
   "id": "243f216e",
   "metadata": {},
   "outputs": [
    {
     "data": {
      "text/plain": [
       "(5193, 6)"
      ]
     },
     "execution_count": 24,
     "metadata": {},
     "output_type": "execute_result"
    }
   ],
   "source": [
    "X.shape"
   ]
  },
  {
   "cell_type": "code",
   "execution_count": 19,
   "id": "0ef14c3b",
   "metadata": {},
   "outputs": [
    {
     "data": {
      "text/plain": [
       "array([[0, 0, 0, ..., 0, 0, 1],\n",
       "       [1, 0, 0, ..., 0, 0, 0],\n",
       "       [0, 0, 0, ..., 0, 1, 0],\n",
       "       ...,\n",
       "       [0, 0, 0, ..., 1, 0, 0],\n",
       "       [1, 0, 0, ..., 0, 0, 0],\n",
       "       [1, 0, 0, ..., 0, 0, 0]], dtype=uint8)"
      ]
     },
     "execution_count": 19,
     "metadata": {},
     "output_type": "execute_result"
    }
   ],
   "source": [
    "Y"
   ]
  },
  {
   "cell_type": "code",
   "execution_count": 25,
   "id": "43e26221",
   "metadata": {},
   "outputs": [
    {
     "data": {
      "text/plain": [
       "(5193, 7)"
      ]
     },
     "execution_count": 25,
     "metadata": {},
     "output_type": "execute_result"
    }
   ],
   "source": [
    "Y.shape"
   ]
  },
  {
   "cell_type": "code",
   "execution_count": 36,
   "id": "f9831df9",
   "metadata": {},
   "outputs": [
    {
     "name": "stdout",
     "output_type": "stream",
     "text": [
      "Model: \"sequential_2\"\n",
      "_________________________________________________________________\n",
      " Layer (type)                Output Shape              Param #   \n",
      "=================================================================\n",
      " dense_6 (Dense)             (None, 60)                420       \n",
      "                                                                 \n",
      " dense_7 (Dense)             (None, 60)                3660      \n",
      "                                                                 \n",
      " dense_8 (Dense)             (None, 40)                2440      \n",
      "                                                                 \n",
      " dense_9 (Dense)             (None, 40)                1640      \n",
      "                                                                 \n",
      " dense_10 (Dense)            (None, 7)                 287       \n",
      "                                                                 \n",
      "=================================================================\n",
      "Total params: 8,447\n",
      "Trainable params: 8,447\n",
      "Non-trainable params: 0\n",
      "_________________________________________________________________\n"
     ]
    },
    {
     "name": "stderr",
     "output_type": "stream",
     "text": [
      "C:\\Users\\charl\\anaconda3\\lib\\site-packages\\keras\\optimizers\\legacy\\adam.py:117: UserWarning: The `lr` argument is deprecated, use `learning_rate` instead.\n",
      "  super().__init__(name, **kwargs)\n"
     ]
    }
   ],
   "source": [
    "#Defining the model \n",
    "\n",
    "from keras.models import Sequential\n",
    "from keras.layers import Dense\n",
    "from keras.optimizers import SGD,Adam\n",
    "\n",
    "\n",
    "model = Sequential()\n",
    "\n",
    "model.add(Dense(60,input_shape=(6,),activation='tanh'))\n",
    "model.add(Dense(60,activation='tanh'))\n",
    "model.add(Dense(40,activation='tanh'))\n",
    "model.add(Dense(40,activation='tanh'))\n",
    "model.add(Dense(7,activation='softmax'))\n",
    "\n",
    "model.compile(Adam(lr=0.04),'categorical_crossentropy',metrics=['accuracy'])\n",
    "\n",
    "model.summary()"
   ]
  },
  {
   "cell_type": "code",
   "execution_count": 37,
   "id": "ec0e2eb1",
   "metadata": {},
   "outputs": [
    {
     "name": "stdout",
     "output_type": "stream",
     "text": [
      "Epoch 1/100\n",
      "130/130 [==============================] - 1s 4ms/step - loss: 0.3839 - accuracy: 0.8606 - val_loss: 0.2725 - val_accuracy: 0.8566\n",
      "Epoch 2/100\n",
      "130/130 [==============================] - 0s 3ms/step - loss: 0.2378 - accuracy: 0.8758 - val_loss: 0.1882 - val_accuracy: 0.8970\n",
      "Epoch 3/100\n",
      "130/130 [==============================] - 0s 3ms/step - loss: 0.2344 - accuracy: 0.8746 - val_loss: 0.1870 - val_accuracy: 0.8970\n",
      "Epoch 4/100\n",
      "130/130 [==============================] - 0s 3ms/step - loss: 0.2340 - accuracy: 0.8799 - val_loss: 0.3178 - val_accuracy: 0.8518\n",
      "Epoch 5/100\n",
      "130/130 [==============================] - 0s 4ms/step - loss: 0.4583 - accuracy: 0.8310 - val_loss: 0.2887 - val_accuracy: 0.8691\n",
      "Epoch 6/100\n",
      "130/130 [==============================] - 0s 3ms/step - loss: 0.3085 - accuracy: 0.8483 - val_loss: 0.3017 - val_accuracy: 0.8643\n",
      "Epoch 7/100\n",
      "130/130 [==============================] - 0s 3ms/step - loss: 0.3066 - accuracy: 0.8577 - val_loss: 0.2938 - val_accuracy: 0.8287\n",
      "Epoch 8/100\n",
      "130/130 [==============================] - 0s 3ms/step - loss: 0.3180 - accuracy: 0.8584 - val_loss: 0.2815 - val_accuracy: 0.8672\n",
      "Epoch 9/100\n",
      "130/130 [==============================] - 0s 3ms/step - loss: 0.6195 - accuracy: 0.7460 - val_loss: 0.4740 - val_accuracy: 0.7661\n",
      "Epoch 10/100\n",
      "130/130 [==============================] - 0s 3ms/step - loss: 0.4013 - accuracy: 0.8233 - val_loss: 0.7703 - val_accuracy: 0.6997\n",
      "Epoch 11/100\n",
      "130/130 [==============================] - 0s 3ms/step - loss: 0.5906 - accuracy: 0.7244 - val_loss: 0.6656 - val_accuracy: 0.7305\n",
      "Epoch 12/100\n",
      "130/130 [==============================] - 0s 3ms/step - loss: 0.3402 - accuracy: 0.8483 - val_loss: 0.2406 - val_accuracy: 0.8566\n",
      "Epoch 13/100\n",
      "130/130 [==============================] - 0s 3ms/step - loss: 0.3385 - accuracy: 0.8594 - val_loss: 0.2343 - val_accuracy: 0.8903\n",
      "Epoch 14/100\n",
      "130/130 [==============================] - 0s 3ms/step - loss: 0.2858 - accuracy: 0.8633 - val_loss: 0.2025 - val_accuracy: 0.8566\n",
      "Epoch 15/100\n",
      "130/130 [==============================] - 0s 3ms/step - loss: 0.2601 - accuracy: 0.8719 - val_loss: 0.2291 - val_accuracy: 0.8566\n",
      "Epoch 16/100\n",
      "130/130 [==============================] - 0s 2ms/step - loss: 0.2162 - accuracy: 0.8849 - val_loss: 0.2852 - val_accuracy: 0.8970\n",
      "Epoch 17/100\n",
      "130/130 [==============================] - 0s 2ms/step - loss: 0.3284 - accuracy: 0.8592 - val_loss: 0.5081 - val_accuracy: 0.8691\n",
      "Epoch 18/100\n",
      "130/130 [==============================] - 0s 2ms/step - loss: 0.2878 - accuracy: 0.8625 - val_loss: 0.1979 - val_accuracy: 0.8970\n",
      "Epoch 19/100\n",
      "130/130 [==============================] - 0s 2ms/step - loss: 0.2219 - accuracy: 0.8801 - val_loss: 0.2878 - val_accuracy: 0.8845\n",
      "Epoch 20/100\n",
      "130/130 [==============================] - 0s 2ms/step - loss: 0.3361 - accuracy: 0.8512 - val_loss: 0.3650 - val_accuracy: 0.8681\n",
      "Epoch 21/100\n",
      "130/130 [==============================] - 0s 2ms/step - loss: 0.3043 - accuracy: 0.8527 - val_loss: 0.4165 - val_accuracy: 0.8691\n",
      "Epoch 22/100\n",
      "130/130 [==============================] - 0s 2ms/step - loss: 0.2917 - accuracy: 0.8565 - val_loss: 0.3021 - val_accuracy: 0.8691\n",
      "Epoch 23/100\n",
      "130/130 [==============================] - 0s 3ms/step - loss: 0.3139 - accuracy: 0.8517 - val_loss: 0.4726 - val_accuracy: 0.8691\n",
      "Epoch 24/100\n",
      "130/130 [==============================] - 0s 2ms/step - loss: 0.3318 - accuracy: 0.8633 - val_loss: 0.2799 - val_accuracy: 0.8691\n",
      "Epoch 25/100\n",
      "130/130 [==============================] - 0s 2ms/step - loss: 0.3004 - accuracy: 0.8558 - val_loss: 0.3183 - val_accuracy: 0.8287\n",
      "Epoch 26/100\n",
      "130/130 [==============================] - 0s 2ms/step - loss: 0.3374 - accuracy: 0.8551 - val_loss: 0.3387 - val_accuracy: 0.8287\n",
      "Epoch 27/100\n",
      "130/130 [==============================] - 0s 3ms/step - loss: 0.3135 - accuracy: 0.8553 - val_loss: 0.3049 - val_accuracy: 0.8691\n",
      "Epoch 28/100\n",
      "130/130 [==============================] - 0s 3ms/step - loss: 0.3328 - accuracy: 0.8630 - val_loss: 0.3728 - val_accuracy: 0.8691\n",
      "Epoch 29/100\n",
      "130/130 [==============================] - 0s 3ms/step - loss: 0.3189 - accuracy: 0.8640 - val_loss: 0.4533 - val_accuracy: 0.8287\n",
      "Epoch 30/100\n",
      "130/130 [==============================] - 0s 3ms/step - loss: 0.2939 - accuracy: 0.8544 - val_loss: 0.2659 - val_accuracy: 0.8691\n",
      "Epoch 31/100\n",
      "130/130 [==============================] - 0s 3ms/step - loss: 0.3233 - accuracy: 0.8544 - val_loss: 0.3737 - val_accuracy: 0.7267\n",
      "Epoch 32/100\n",
      "130/130 [==============================] - 0s 3ms/step - loss: 0.3321 - accuracy: 0.8510 - val_loss: 0.3328 - val_accuracy: 0.8691\n",
      "Epoch 33/100\n",
      "130/130 [==============================] - 0s 3ms/step - loss: 0.2933 - accuracy: 0.8565 - val_loss: 0.2847 - val_accuracy: 0.8691\n",
      "Epoch 34/100\n",
      "130/130 [==============================] - 0s 2ms/step - loss: 0.3668 - accuracy: 0.8618 - val_loss: 0.5692 - val_accuracy: 0.7671\n",
      "Epoch 35/100\n",
      "130/130 [==============================] - 0s 2ms/step - loss: 0.3042 - accuracy: 0.8524 - val_loss: 0.3286 - val_accuracy: 0.8287\n",
      "Epoch 36/100\n",
      "130/130 [==============================] - 0s 3ms/step - loss: 0.3213 - accuracy: 0.8534 - val_loss: 0.3451 - val_accuracy: 0.8287\n",
      "Epoch 37/100\n",
      "130/130 [==============================] - 0s 3ms/step - loss: 0.3087 - accuracy: 0.8592 - val_loss: 0.2972 - val_accuracy: 0.8287\n",
      "Epoch 38/100\n",
      "130/130 [==============================] - 0s 3ms/step - loss: 0.3450 - accuracy: 0.8450 - val_loss: 0.3216 - val_accuracy: 0.8191\n",
      "Epoch 39/100\n",
      "130/130 [==============================] - 0s 3ms/step - loss: 0.2654 - accuracy: 0.8739 - val_loss: 0.1969 - val_accuracy: 0.8970\n",
      "Epoch 40/100\n",
      "130/130 [==============================] - 0s 3ms/step - loss: 0.3776 - accuracy: 0.8428 - val_loss: 0.6370 - val_accuracy: 0.7305\n",
      "Epoch 41/100\n",
      "130/130 [==============================] - 0s 2ms/step - loss: 0.4098 - accuracy: 0.8293 - val_loss: 0.3016 - val_accuracy: 0.8287\n",
      "Epoch 42/100\n",
      "130/130 [==============================] - 0s 2ms/step - loss: 0.3142 - accuracy: 0.8522 - val_loss: 0.3490 - val_accuracy: 0.8287\n",
      "Epoch 43/100\n",
      "130/130 [==============================] - 0s 2ms/step - loss: 0.3234 - accuracy: 0.8551 - val_loss: 0.3170 - val_accuracy: 0.8691\n",
      "Epoch 44/100\n",
      "130/130 [==============================] - 0s 2ms/step - loss: 0.2951 - accuracy: 0.8609 - val_loss: 0.2935 - val_accuracy: 0.8287\n",
      "Epoch 45/100\n",
      "130/130 [==============================] - 0s 2ms/step - loss: 0.3078 - accuracy: 0.8570 - val_loss: 0.3076 - val_accuracy: 0.8691\n",
      "Epoch 46/100\n",
      "130/130 [==============================] - 0s 2ms/step - loss: 0.2830 - accuracy: 0.8635 - val_loss: 0.2803 - val_accuracy: 0.8691\n",
      "Epoch 47/100\n",
      "130/130 [==============================] - 0s 3ms/step - loss: 0.3209 - accuracy: 0.8469 - val_loss: 0.2943 - val_accuracy: 0.8287\n",
      "Epoch 48/100\n",
      "130/130 [==============================] - 0s 3ms/step - loss: 0.3089 - accuracy: 0.8522 - val_loss: 0.3976 - val_accuracy: 0.8691\n",
      "Epoch 49/100\n",
      "130/130 [==============================] - 0s 3ms/step - loss: 0.3416 - accuracy: 0.8568 - val_loss: 0.3020 - val_accuracy: 0.8287\n",
      "Epoch 50/100\n",
      "130/130 [==============================] - 0s 3ms/step - loss: 0.2833 - accuracy: 0.8597 - val_loss: 0.4059 - val_accuracy: 0.8691\n",
      "Epoch 51/100\n",
      "130/130 [==============================] - 0s 3ms/step - loss: 0.3102 - accuracy: 0.8628 - val_loss: 0.4336 - val_accuracy: 0.8691\n",
      "Epoch 52/100\n",
      "130/130 [==============================] - 0s 3ms/step - loss: 0.3470 - accuracy: 0.8512 - val_loss: 0.3898 - val_accuracy: 0.8691\n",
      "Epoch 53/100\n",
      "130/130 [==============================] - 0s 3ms/step - loss: 0.2972 - accuracy: 0.8606 - val_loss: 0.2757 - val_accuracy: 0.8691\n",
      "Epoch 54/100\n",
      "130/130 [==============================] - 0s 3ms/step - loss: 0.3119 - accuracy: 0.8625 - val_loss: 0.2819 - val_accuracy: 0.8287\n",
      "Epoch 55/100\n",
      "130/130 [==============================] - 0s 3ms/step - loss: 0.3331 - accuracy: 0.8450 - val_loss: 0.4744 - val_accuracy: 0.8287\n",
      "Epoch 56/100\n",
      "130/130 [==============================] - 0s 3ms/step - loss: 0.3295 - accuracy: 0.8471 - val_loss: 0.2995 - val_accuracy: 0.8287\n",
      "Epoch 57/100\n",
      "130/130 [==============================] - 0s 3ms/step - loss: 0.2790 - accuracy: 0.8616 - val_loss: 0.3001 - val_accuracy: 0.8287\n",
      "Epoch 58/100\n",
      "130/130 [==============================] - 0s 3ms/step - loss: 0.3203 - accuracy: 0.8652 - val_loss: 0.3763 - val_accuracy: 0.8691\n",
      "Epoch 59/100\n",
      "130/130 [==============================] - 0s 3ms/step - loss: 0.3012 - accuracy: 0.8599 - val_loss: 0.2882 - val_accuracy: 0.8287\n",
      "Epoch 60/100\n",
      "130/130 [==============================] - 0s 3ms/step - loss: 0.2904 - accuracy: 0.8551 - val_loss: 0.2790 - val_accuracy: 0.8691\n",
      "Epoch 61/100\n",
      "130/130 [==============================] - 0s 3ms/step - loss: 0.3087 - accuracy: 0.8553 - val_loss: 0.3235 - val_accuracy: 0.8691\n",
      "Epoch 62/100\n",
      "130/130 [==============================] - 0s 3ms/step - loss: 0.2921 - accuracy: 0.8630 - val_loss: 0.3054 - val_accuracy: 0.8691\n",
      "Epoch 63/100\n",
      "130/130 [==============================] - 0s 3ms/step - loss: 0.3228 - accuracy: 0.8645 - val_loss: 0.5135 - val_accuracy: 0.8691\n",
      "Epoch 64/100\n",
      "130/130 [==============================] - 0s 2ms/step - loss: 0.2985 - accuracy: 0.8584 - val_loss: 0.2674 - val_accuracy: 0.8691\n",
      "Epoch 65/100\n",
      "130/130 [==============================] - 0s 2ms/step - loss: 0.2939 - accuracy: 0.8616 - val_loss: 0.2679 - val_accuracy: 0.8691\n",
      "Epoch 66/100\n",
      "130/130 [==============================] - 0s 2ms/step - loss: 0.3199 - accuracy: 0.8551 - val_loss: 0.3116 - val_accuracy: 0.8691\n",
      "Epoch 67/100\n",
      "130/130 [==============================] - 0s 2ms/step - loss: 0.3073 - accuracy: 0.8560 - val_loss: 0.2798 - val_accuracy: 0.8287\n",
      "Epoch 68/100\n",
      "130/130 [==============================] - 0s 2ms/step - loss: 0.3278 - accuracy: 0.8524 - val_loss: 0.5060 - val_accuracy: 0.8691\n",
      "Epoch 69/100\n",
      "130/130 [==============================] - 0s 3ms/step - loss: 0.3410 - accuracy: 0.8553 - val_loss: 0.4005 - val_accuracy: 0.8287\n",
      "Epoch 70/100\n",
      "130/130 [==============================] - 0s 3ms/step - loss: 0.3004 - accuracy: 0.8553 - val_loss: 0.3351 - val_accuracy: 0.8691\n",
      "Epoch 71/100\n",
      "130/130 [==============================] - 0s 2ms/step - loss: 0.3287 - accuracy: 0.8539 - val_loss: 0.2971 - val_accuracy: 0.8691\n",
      "Epoch 72/100\n",
      "130/130 [==============================] - 0s 2ms/step - loss: 0.3159 - accuracy: 0.8633 - val_loss: 0.3199 - val_accuracy: 0.8691\n",
      "Epoch 73/100\n",
      "130/130 [==============================] - 0s 3ms/step - loss: 0.3081 - accuracy: 0.8560 - val_loss: 0.2977 - val_accuracy: 0.8287\n",
      "Epoch 74/100\n",
      "130/130 [==============================] - 0s 3ms/step - loss: 0.2931 - accuracy: 0.8546 - val_loss: 0.2911 - val_accuracy: 0.8691\n",
      "Epoch 75/100\n",
      "130/130 [==============================] - 0s 3ms/step - loss: 0.3086 - accuracy: 0.8512 - val_loss: 0.2620 - val_accuracy: 0.8691\n",
      "Epoch 76/100\n",
      "130/130 [==============================] - 0s 3ms/step - loss: 0.2930 - accuracy: 0.8681 - val_loss: 0.3052 - val_accuracy: 0.8691\n",
      "Epoch 77/100\n",
      "130/130 [==============================] - 0s 3ms/step - loss: 0.3290 - accuracy: 0.8584 - val_loss: 0.2821 - val_accuracy: 0.8287\n",
      "Epoch 78/100\n",
      "130/130 [==============================] - 0s 3ms/step - loss: 0.3018 - accuracy: 0.8539 - val_loss: 0.2999 - val_accuracy: 0.8287\n",
      "Epoch 79/100\n",
      "130/130 [==============================] - 0s 3ms/step - loss: 0.2871 - accuracy: 0.8621 - val_loss: 0.2784 - val_accuracy: 0.8691\n",
      "Epoch 80/100\n",
      "130/130 [==============================] - 0s 3ms/step - loss: 0.2931 - accuracy: 0.8577 - val_loss: 0.2858 - val_accuracy: 0.8691\n",
      "Epoch 81/100\n",
      "130/130 [==============================] - 0s 3ms/step - loss: 0.2909 - accuracy: 0.8570 - val_loss: 0.3549 - val_accuracy: 0.8287\n",
      "Epoch 82/100\n",
      "130/130 [==============================] - 0s 3ms/step - loss: 0.3125 - accuracy: 0.8544 - val_loss: 0.3805 - val_accuracy: 0.8691\n",
      "Epoch 83/100\n",
      "130/130 [==============================] - 0s 3ms/step - loss: 0.2960 - accuracy: 0.8584 - val_loss: 0.3544 - val_accuracy: 0.8691\n",
      "Epoch 84/100\n",
      "130/130 [==============================] - 0s 3ms/step - loss: 0.3133 - accuracy: 0.8568 - val_loss: 0.2657 - val_accuracy: 0.8691\n",
      "Epoch 85/100\n",
      "130/130 [==============================] - 0s 3ms/step - loss: 0.2876 - accuracy: 0.8515 - val_loss: 0.3588 - val_accuracy: 0.8691\n",
      "Epoch 86/100\n",
      "130/130 [==============================] - 0s 2ms/step - loss: 0.2963 - accuracy: 0.8560 - val_loss: 0.2761 - val_accuracy: 0.8691\n",
      "Epoch 87/100\n",
      "130/130 [==============================] - 0s 3ms/step - loss: 0.3076 - accuracy: 0.8575 - val_loss: 0.2691 - val_accuracy: 0.8691\n",
      "Epoch 88/100\n",
      "130/130 [==============================] - 0s 2ms/step - loss: 0.3072 - accuracy: 0.8580 - val_loss: 0.3853 - val_accuracy: 0.8287\n",
      "Epoch 89/100\n",
      "130/130 [==============================] - 0s 3ms/step - loss: 0.2900 - accuracy: 0.8570 - val_loss: 0.2741 - val_accuracy: 0.8691\n",
      "Epoch 90/100\n",
      "130/130 [==============================] - 0s 3ms/step - loss: 0.3707 - accuracy: 0.8577 - val_loss: 0.3006 - val_accuracy: 0.8691\n",
      "Epoch 91/100\n",
      "130/130 [==============================] - 0s 2ms/step - loss: 0.3290 - accuracy: 0.8486 - val_loss: 0.2790 - val_accuracy: 0.8691\n",
      "Epoch 92/100\n",
      "130/130 [==============================] - 0s 2ms/step - loss: 0.2940 - accuracy: 0.8582 - val_loss: 0.2841 - val_accuracy: 0.8691\n",
      "Epoch 93/100\n",
      "130/130 [==============================] - 0s 2ms/step - loss: 0.2917 - accuracy: 0.8572 - val_loss: 0.2704 - val_accuracy: 0.8691\n",
      "Epoch 94/100\n",
      "130/130 [==============================] - 0s 2ms/step - loss: 0.3078 - accuracy: 0.8594 - val_loss: 0.2962 - val_accuracy: 0.8287\n",
      "Epoch 95/100\n",
      "130/130 [==============================] - 0s 2ms/step - loss: 0.3242 - accuracy: 0.8522 - val_loss: 0.2828 - val_accuracy: 0.8691\n",
      "Epoch 96/100\n",
      "130/130 [==============================] - 0s 2ms/step - loss: 0.3191 - accuracy: 0.8517 - val_loss: 0.3970 - val_accuracy: 0.8287\n",
      "Epoch 97/100\n",
      "130/130 [==============================] - 0s 2ms/step - loss: 0.3210 - accuracy: 0.8507 - val_loss: 0.2743 - val_accuracy: 0.8287\n",
      "Epoch 98/100\n",
      "130/130 [==============================] - 0s 2ms/step - loss: 0.2952 - accuracy: 0.8584 - val_loss: 0.4280 - val_accuracy: 0.8691\n",
      "Epoch 99/100\n",
      "130/130 [==============================] - 0s 3ms/step - loss: 0.3510 - accuracy: 0.8519 - val_loss: 0.3523 - val_accuracy: 0.8691\n",
      "Epoch 100/100\n",
      "130/130 [==============================] - 0s 3ms/step - loss: 0.2956 - accuracy: 0.8517 - val_loss: 0.2760 - val_accuracy: 0.8691\n",
      "33/33 [==============================] - 0s 1ms/step\n"
     ]
    }
   ],
   "source": [
    "#fitting the model and predicting \n",
    "\n",
    "# fit network\n",
    "model_history=model.fit(x=X_train, y=y_train, epochs=100, batch_size=32,validation_data= (X_test,y_test))\n",
    "y_pred = model.predict(X_test)\n",
    "\n",
    "y_test_class = np.argmax(y_test,axis=1)\n",
    "y_pred_class = np.argmax(y_pred,axis=1)"
   ]
  },
  {
   "cell_type": "code",
   "execution_count": 38,
   "id": "dfb6c7a7",
   "metadata": {},
   "outputs": [
    {
     "data": {
      "image/png": "[encoded data removed]",
      "text/plain": [
       "<Figure size 640x480 with 1 Axes>"
      ]
     },
     "metadata": {},
     "output_type": "display_data"
    }
   ],
   "source": [
    "import matplotlib.pyplot as plt\n",
    "import seaborn as sns\n",
    "\n",
    "loss =model_history.history['loss']\n",
    "val_loss =model_history.history['val_loss']\n",
    "epochs = range(1, len(loss) + 1)\n",
    "plt.plot(epochs, loss, 'y', label='Training loss')\n",
    "plt.plot(epochs, val_loss, 'r', label='Validation loss')\n",
    "plt.title('Training and validation loss')\n",
    "plt.xlabel('Epochs')\n",
    "plt.ylabel('Loss')\n",
    "plt.legend()\n",
    "plt.show()"
   ]
  },
  {
   "cell_type": "code",
   "execution_count": 39,
   "id": "f64b4d98",
   "metadata": {},
   "outputs": [
    {
     "data": {
      "image/png": "[encoded data removed]",
      "text/plain": [
       "<Figure size 640x480 with 1 Axes>"
      ]
     },
     "metadata": {},
     "output_type": "display_data"
    }
   ],
   "source": [
    "acc =model_history.history['accuracy']\n",
    "val_acc =model_history.history['val_accuracy']\n",
    "plt.plot(epochs, acc, 'y', label='Training acc')\n",
    "plt.plot(epochs, val_acc, 'r', label='Validation acc')\n",
    "plt.title('Training and validation accuracy')\n",
    "plt.xlabel('Epochs')\n",
    "plt.ylabel('Accuracy')\n",
    "plt.legend()\n",
    "plt.show()"
   ]
  },
  {
   "cell_type": "code",
   "execution_count": 40,
   "id": "c4fdfb38",
   "metadata": {},
   "outputs": [
    {
     "name": "stdout",
     "output_type": "stream",
     "text": [
      "              precision    recall  f1-score   support\n",
      "\n",
      "           0       1.00      1.00      1.00       625\n",
      "           1       0.00      0.00      0.00        29\n",
      "           2       0.00      0.00      0.00         1\n",
      "           3       0.00      0.00      0.00         4\n",
      "           4       0.80      1.00      0.89       134\n",
      "           5       0.59      1.00      0.74       144\n",
      "           6       0.00      0.00      0.00       102\n",
      "\n",
      "    accuracy                           0.87      1039\n",
      "   macro avg       0.34      0.43      0.38      1039\n",
      "weighted avg       0.79      0.87      0.82      1039\n",
      "\n",
      "[[625   0   0   0   0   0   0]\n",
      " [  0   0   0   0  29   0   0]\n",
      " [  0   0   0   0   1   0   0]\n",
      " [  0   0   0   0   4   0   0]\n",
      " [  0   0   0   0 134   0   0]\n",
      " [  0   0   0   0   0 144   0]\n",
      " [  0   0   0   0   0 102   0]]\n"
     ]
    },
    {
     "name": "stderr",
     "output_type": "stream",
     "text": [
      "C:\\Users\\charl\\anaconda3\\lib\\site-packages\\sklearn\\metrics\\_classification.py:1344: UndefinedMetricWarning: Precision and F-score are ill-defined and being set to 0.0 in labels with no predicted samples. Use `zero_division` parameter to control this behavior.\n",
      "  _warn_prf(average, modifier, msg_start, len(result))\n",
      "C:\\Users\\charl\\anaconda3\\lib\\site-packages\\sklearn\\metrics\\_classification.py:1344: UndefinedMetricWarning: Precision and F-score are ill-defined and being set to 0.0 in labels with no predicted samples. Use `zero_division` parameter to control this behavior.\n",
      "  _warn_prf(average, modifier, msg_start, len(result))\n",
      "C:\\Users\\charl\\anaconda3\\lib\\site-packages\\sklearn\\metrics\\_classification.py:1344: UndefinedMetricWarning: Precision and F-score are ill-defined and being set to 0.0 in labels with no predicted samples. Use `zero_division` parameter to control this behavior.\n",
      "  _warn_prf(average, modifier, msg_start, len(result))\n"
     ]
    }
   ],
   "source": [
    "#Accuracy of the predicted values\n",
    "from sklearn.metrics import classification_report,confusion_matrix\n",
    "print(classification_report(y_test_class,y_pred_class))\n",
    "print(confusion_matrix(y_test_class,y_pred_class))"
   ]
  },
  {
   "cell_type": "code",
   "execution_count": null,
   "id": "ef5437b1",
   "metadata": {},
   "outputs": [],
   "source": []
  }
 ],
 "metadata": {
  "kernelspec": {
   "display_name": "Python 3 (ipykernel)",
   "language": "python",
   "name": "python3"
  },
  "language_info": {
   "codemirror_mode": {
    "name": "ipython",
    "version": 3
   },
   "file_extension": ".py",
   "mimetype": "text/x-python",
   "name": "python",
   "nbconvert_exporter": "python",
   "pygments_lexer": "ipython3",
   "version": "3.9.13"
  }
 },
 "nbformat": 4,
 "nbformat_minor": 5
}
