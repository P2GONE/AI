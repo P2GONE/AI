{
 "cells": [
  {
   "cell_type": "code",
   "execution_count": 7,
   "id": "6bc78b88",
   "metadata": {},
   "outputs": [
    {
     "data": {
      "text/plain": [
       "<matplotlib.image.AxesImage at 0x2005f9298e0>"
      ]
     },
     "execution_count": 7,
     "metadata": {},
     "output_type": "execute_result"
    },
    {
     "data": {
      "image/png": "[encoded data removed]",
      "text/plain": [
       "<Figure size 640x480 with 1 Axes>"
      ]
     },
     "metadata": {},
     "output_type": "display_data"
    }
   ],
   "source": [
    "import matplotlib.pyplot as plt\n",
    "from sklearn import datasets, metrics\n",
    "from sklearn.model_selection import train_test_split\n",
    "import pandas as pd\n",
    "import numpy as np\n",
    "\n",
    "digits = datasets.load_digits()\n",
    "plt.imshow(digits.images[0], cmap=plt.cm.gray_r, interpolation='nearest')"
   ]
  },
  {
   "cell_type": "code",
   "execution_count": 8,
   "id": "f6c0856c",
   "metadata": {},
   "outputs": [],
   "source": [
    "n_samples = len(digits.images)\n",
    "\n",
    "data = digits.images.reshape((n_samples, -1))\n",
    "\n",
    "# 이미지를 평판화 n x sample x 8 8 => n_sample x 64"
   ]
  },
  {
   "cell_type": "code",
   "execution_count": 9,
   "id": "7834559b",
   "metadata": {},
   "outputs": [],
   "source": [
    "from sklearn.preprocessing import LabelEncoder\n",
    "encoder =  LabelEncoder()\n",
    "y1 = encoder.fit_transform(digits.target)\n",
    "\n",
    "Y = pd.get_dummies(y1).values"
   ]
  },
  {
   "cell_type": "code",
   "execution_count": 10,
   "id": "82667ef8",
   "metadata": {},
   "outputs": [],
   "source": [
    "X_train, X_test, y_train, y_test = train_test_split(data, Y, test_size=0.2, random_state=0)"
   ]
  },
  {
   "cell_type": "code",
   "execution_count": 12,
   "id": "e06ed8b8",
   "metadata": {},
   "outputs": [],
   "source": [
    "X_train, X_test, y_train, y_test = train_test_split(data, Y, test_size=0.2, random_state=0)"
   ]
  },
  {
   "cell_type": "code",
   "execution_count": 13,
   "id": "dfbdcb4c",
   "metadata": {},
   "outputs": [
    {
     "name": "stdout",
     "output_type": "stream",
     "text": [
      "X train : (1437, 64)\n",
      "y train : (1437, 10)\n",
      "X test : (360, 64)\n",
      "y test : (360, 10)\n"
     ]
    }
   ],
   "source": [
    "print(\"X train :\", X_train.shape)\n",
    "print(\"y train :\", y_train.shape)\n",
    "print(\"X test :\", X_test.shape)\n",
    "print(\"y test :\", y_test.shape)"
   ]
  },
  {
   "cell_type": "code",
   "execution_count": 20,
   "id": "234c78a4",
   "metadata": {},
   "outputs": [
    {
     "name": "stdout",
     "output_type": "stream",
     "text": [
      "Model: \"sequential_2\"\n",
      "_________________________________________________________________\n",
      " Layer (type)                Output Shape              Param #   \n",
      "=================================================================\n",
      " dense_10 (Dense)            (None, 128)               8320      \n",
      "                                                                 \n",
      " dense_11 (Dense)            (None, 128)               16512     \n",
      "                                                                 \n",
      " dense_12 (Dense)            (None, 112)               14448     \n",
      "                                                                 \n",
      " dense_13 (Dense)            (None, 96)                10848     \n",
      "                                                                 \n",
      " dense_14 (Dense)            (None, 10)                970       \n",
      "                                                                 \n",
      "=================================================================\n",
      "Total params: 51,098\n",
      "Trainable params: 51,098\n",
      "Non-trainable params: 0\n",
      "_________________________________________________________________\n"
     ]
    },
    {
     "name": "stderr",
     "output_type": "stream",
     "text": [
      "C:\\Users\\charl\\anaconda3\\lib\\site-packages\\keras\\optimizers\\legacy\\adam.py:117: UserWarning: The `lr` argument is deprecated, use `learning_rate` instead.\n",
      "  super().__init__(name, **kwargs)\n"
     ]
    }
   ],
   "source": [
    "#Defining the model \n",
    "\n",
    "from keras.models import Sequential\n",
    "from keras.layers import Dense\n",
    "from keras.optimizers import SGD,Adam\n",
    "\n",
    "\n",
    "model = Sequential()\n",
    "\n",
    "model.add(Dense(128,input_shape=(64,),activation='ReLU'))\n",
    "model.add(Dense(128,activation='ReLU'))\n",
    "model.add(Dense(112,activation='ReLU'))\n",
    "model.add(Dense(96,activation='ReLU'))\n",
    "model.add(Dense(10,activation='softmax'))\n",
    "\n",
    "model.compile(Adam(lr=0.0045),'categorical_crossentropy',metrics=['accuracy'])\n",
    "\n",
    "model.summary()"
   ]
  },
  {
   "cell_type": "code",
   "execution_count": 21,
   "id": "cbb4f66b",
   "metadata": {},
   "outputs": [
    {
     "name": "stdout",
     "output_type": "stream",
     "text": [
      "Epoch 1/100\n",
      "45/45 [==============================] - 2s 12ms/step - loss: 0.8347 - accuracy: 0.7578 - val_loss: 0.1785 - val_accuracy: 0.9528\n",
      "Epoch 2/100\n",
      "45/45 [==============================] - 0s 5ms/step - loss: 0.1654 - accuracy: 0.9471 - val_loss: 0.1020 - val_accuracy: 0.9722\n",
      "Epoch 3/100\n",
      "45/45 [==============================] - 0s 5ms/step - loss: 0.1027 - accuracy: 0.9687 - val_loss: 0.1368 - val_accuracy: 0.9500\n",
      "Epoch 4/100\n",
      "45/45 [==============================] - 0s 5ms/step - loss: 0.0873 - accuracy: 0.9729 - val_loss: 0.2647 - val_accuracy: 0.9194\n",
      "Epoch 5/100\n",
      "45/45 [==============================] - 0s 5ms/step - loss: 0.1122 - accuracy: 0.9659 - val_loss: 0.1228 - val_accuracy: 0.9667\n",
      "Epoch 6/100\n",
      "45/45 [==============================] - 0s 5ms/step - loss: 0.0994 - accuracy: 0.9756 - val_loss: 0.1266 - val_accuracy: 0.9694\n",
      "Epoch 7/100\n",
      "45/45 [==============================] - 0s 5ms/step - loss: 0.1262 - accuracy: 0.9610 - val_loss: 0.1482 - val_accuracy: 0.9556\n",
      "Epoch 8/100\n",
      "45/45 [==============================] - 0s 5ms/step - loss: 0.0855 - accuracy: 0.9722 - val_loss: 0.0715 - val_accuracy: 0.9806\n",
      "Epoch 9/100\n",
      "45/45 [==============================] - 0s 5ms/step - loss: 0.0379 - accuracy: 0.9868 - val_loss: 0.1106 - val_accuracy: 0.9667\n",
      "Epoch 10/100\n",
      "45/45 [==============================] - 0s 4ms/step - loss: 0.0467 - accuracy: 0.9875 - val_loss: 0.0810 - val_accuracy: 0.9722\n",
      "Epoch 11/100\n",
      "45/45 [==============================] - 0s 4ms/step - loss: 0.0166 - accuracy: 0.9951 - val_loss: 0.0674 - val_accuracy: 0.9806\n",
      "Epoch 12/100\n",
      "45/45 [==============================] - 0s 5ms/step - loss: 0.0484 - accuracy: 0.9833 - val_loss: 0.2053 - val_accuracy: 0.9389\n",
      "Epoch 13/100\n",
      "45/45 [==============================] - 0s 5ms/step - loss: 0.0468 - accuracy: 0.9812 - val_loss: 0.1164 - val_accuracy: 0.9667\n",
      "Epoch 14/100\n",
      "45/45 [==============================] - 0s 5ms/step - loss: 0.0560 - accuracy: 0.9882 - val_loss: 0.1474 - val_accuracy: 0.9611\n",
      "Epoch 15/100\n",
      "45/45 [==============================] - 0s 5ms/step - loss: 0.0966 - accuracy: 0.9729 - val_loss: 0.1622 - val_accuracy: 0.9611\n",
      "Epoch 16/100\n",
      "45/45 [==============================] - 0s 5ms/step - loss: 0.1300 - accuracy: 0.9722 - val_loss: 0.2131 - val_accuracy: 0.9389\n",
      "Epoch 17/100\n",
      "45/45 [==============================] - 0s 4ms/step - loss: 0.0614 - accuracy: 0.9791 - val_loss: 0.1143 - val_accuracy: 0.9667\n",
      "Epoch 18/100\n",
      "45/45 [==============================] - 0s 5ms/step - loss: 0.0376 - accuracy: 0.9889 - val_loss: 0.1741 - val_accuracy: 0.9556\n",
      "Epoch 19/100\n",
      "45/45 [==============================] - 0s 4ms/step - loss: 0.0771 - accuracy: 0.9819 - val_loss: 0.1078 - val_accuracy: 0.9750\n",
      "Epoch 20/100\n",
      "45/45 [==============================] - 0s 4ms/step - loss: 0.0133 - accuracy: 0.9958 - val_loss: 0.0786 - val_accuracy: 0.9806\n",
      "Epoch 21/100\n",
      "45/45 [==============================] - 0s 4ms/step - loss: 0.0023 - accuracy: 0.9993 - val_loss: 0.0946 - val_accuracy: 0.9806\n",
      "Epoch 22/100\n",
      "45/45 [==============================] - 0s 4ms/step - loss: 0.0012 - accuracy: 0.9993 - val_loss: 0.0885 - val_accuracy: 0.9806\n",
      "Epoch 23/100\n",
      "45/45 [==============================] - 0s 4ms/step - loss: 3.6175e-04 - accuracy: 1.0000 - val_loss: 0.0892 - val_accuracy: 0.9806\n",
      "Epoch 24/100\n",
      "45/45 [==============================] - 0s 4ms/step - loss: 2.0659e-04 - accuracy: 1.0000 - val_loss: 0.0906 - val_accuracy: 0.9806\n",
      "Epoch 25/100\n",
      "45/45 [==============================] - 0s 4ms/step - loss: 1.6216e-04 - accuracy: 1.0000 - val_loss: 0.0916 - val_accuracy: 0.9806\n",
      "Epoch 26/100\n",
      "45/45 [==============================] - 0s 4ms/step - loss: 1.3545e-04 - accuracy: 1.0000 - val_loss: 0.0928 - val_accuracy: 0.9806\n",
      "Epoch 27/100\n",
      "45/45 [==============================] - 0s 4ms/step - loss: 1.1338e-04 - accuracy: 1.0000 - val_loss: 0.0934 - val_accuracy: 0.9806\n",
      "Epoch 28/100\n",
      "45/45 [==============================] - 0s 5ms/step - loss: 9.6918e-05 - accuracy: 1.0000 - val_loss: 0.0942 - val_accuracy: 0.9806\n",
      "Epoch 29/100\n",
      "45/45 [==============================] - 0s 4ms/step - loss: 8.5634e-05 - accuracy: 1.0000 - val_loss: 0.0954 - val_accuracy: 0.9806\n",
      "Epoch 30/100\n",
      "45/45 [==============================] - 0s 4ms/step - loss: 7.4768e-05 - accuracy: 1.0000 - val_loss: 0.0962 - val_accuracy: 0.9806\n",
      "Epoch 31/100\n",
      "45/45 [==============================] - 0s 4ms/step - loss: 6.6181e-05 - accuracy: 1.0000 - val_loss: 0.0954 - val_accuracy: 0.9806\n",
      "Epoch 32/100\n",
      "45/45 [==============================] - 0s 4ms/step - loss: 5.7875e-05 - accuracy: 1.0000 - val_loss: 0.0955 - val_accuracy: 0.9806\n",
      "Epoch 33/100\n",
      "45/45 [==============================] - 0s 4ms/step - loss: 5.3044e-05 - accuracy: 1.0000 - val_loss: 0.0964 - val_accuracy: 0.9806\n",
      "Epoch 34/100\n",
      "45/45 [==============================] - 0s 4ms/step - loss: 4.7885e-05 - accuracy: 1.0000 - val_loss: 0.0972 - val_accuracy: 0.9806\n",
      "Epoch 35/100\n",
      "45/45 [==============================] - 0s 5ms/step - loss: 4.3811e-05 - accuracy: 1.0000 - val_loss: 0.0980 - val_accuracy: 0.9806\n",
      "Epoch 36/100\n",
      "45/45 [==============================] - 0s 5ms/step - loss: 4.0167e-05 - accuracy: 1.0000 - val_loss: 0.0978 - val_accuracy: 0.9806\n",
      "Epoch 37/100\n",
      "45/45 [==============================] - 0s 5ms/step - loss: 3.6810e-05 - accuracy: 1.0000 - val_loss: 0.0977 - val_accuracy: 0.9806\n",
      "Epoch 38/100\n",
      "45/45 [==============================] - 0s 4ms/step - loss: 3.4101e-05 - accuracy: 1.0000 - val_loss: 0.0980 - val_accuracy: 0.9806\n",
      "Epoch 39/100\n",
      "45/45 [==============================] - 0s 3ms/step - loss: 3.0712e-05 - accuracy: 1.0000 - val_loss: 0.0986 - val_accuracy: 0.9806\n",
      "Epoch 40/100\n",
      "45/45 [==============================] - 0s 4ms/step - loss: 2.8276e-05 - accuracy: 1.0000 - val_loss: 0.0989 - val_accuracy: 0.9806\n",
      "Epoch 41/100\n",
      "45/45 [==============================] - 0s 3ms/step - loss: 2.6057e-05 - accuracy: 1.0000 - val_loss: 0.0997 - val_accuracy: 0.9806\n",
      "Epoch 42/100\n",
      "45/45 [==============================] - 0s 4ms/step - loss: 2.4374e-05 - accuracy: 1.0000 - val_loss: 0.1004 - val_accuracy: 0.9806\n",
      "Epoch 43/100\n",
      "45/45 [==============================] - 0s 3ms/step - loss: 2.2535e-05 - accuracy: 1.0000 - val_loss: 0.1012 - val_accuracy: 0.9806\n",
      "Epoch 44/100\n",
      "45/45 [==============================] - 0s 4ms/step - loss: 2.1088e-05 - accuracy: 1.0000 - val_loss: 0.1017 - val_accuracy: 0.9806\n",
      "Epoch 45/100\n",
      "45/45 [==============================] - 0s 3ms/step - loss: 1.9852e-05 - accuracy: 1.0000 - val_loss: 0.1024 - val_accuracy: 0.9806\n",
      "Epoch 46/100\n",
      "45/45 [==============================] - 0s 3ms/step - loss: 1.8563e-05 - accuracy: 1.0000 - val_loss: 0.1033 - val_accuracy: 0.9806\n",
      "Epoch 47/100\n",
      "45/45 [==============================] - 0s 4ms/step - loss: 1.7457e-05 - accuracy: 1.0000 - val_loss: 0.1041 - val_accuracy: 0.9806\n",
      "Epoch 48/100\n",
      "45/45 [==============================] - 0s 3ms/step - loss: 1.6270e-05 - accuracy: 1.0000 - val_loss: 0.1047 - val_accuracy: 0.9806\n",
      "Epoch 49/100\n",
      "45/45 [==============================] - 0s 3ms/step - loss: 1.4941e-05 - accuracy: 1.0000 - val_loss: 0.1052 - val_accuracy: 0.9806\n",
      "Epoch 50/100\n",
      "45/45 [==============================] - 0s 4ms/step - loss: 1.4036e-05 - accuracy: 1.0000 - val_loss: 0.1062 - val_accuracy: 0.9806\n",
      "Epoch 51/100\n",
      "45/45 [==============================] - 0s 4ms/step - loss: 1.3005e-05 - accuracy: 1.0000 - val_loss: 0.1070 - val_accuracy: 0.9806\n",
      "Epoch 52/100\n",
      "45/45 [==============================] - 0s 4ms/step - loss: 1.2220e-05 - accuracy: 1.0000 - val_loss: 0.1077 - val_accuracy: 0.9806\n",
      "Epoch 53/100\n",
      "45/45 [==============================] - 0s 4ms/step - loss: 1.1507e-05 - accuracy: 1.0000 - val_loss: 0.1082 - val_accuracy: 0.9806\n",
      "Epoch 54/100\n",
      "45/45 [==============================] - 0s 3ms/step - loss: 1.0855e-05 - accuracy: 1.0000 - val_loss: 0.1091 - val_accuracy: 0.9806\n",
      "Epoch 55/100\n",
      "45/45 [==============================] - 0s 4ms/step - loss: 1.0244e-05 - accuracy: 1.0000 - val_loss: 0.1098 - val_accuracy: 0.9806\n",
      "Epoch 56/100\n",
      "45/45 [==============================] - 0s 4ms/step - loss: 9.7252e-06 - accuracy: 1.0000 - val_loss: 0.1107 - val_accuracy: 0.9806\n",
      "Epoch 57/100\n",
      "45/45 [==============================] - 0s 4ms/step - loss: 9.1090e-06 - accuracy: 1.0000 - val_loss: 0.1116 - val_accuracy: 0.9806\n",
      "Epoch 58/100\n",
      "45/45 [==============================] - 0s 3ms/step - loss: 8.6030e-06 - accuracy: 1.0000 - val_loss: 0.1126 - val_accuracy: 0.9806\n",
      "Epoch 59/100\n",
      "45/45 [==============================] - 0s 3ms/step - loss: 8.0271e-06 - accuracy: 1.0000 - val_loss: 0.1132 - val_accuracy: 0.9806\n",
      "Epoch 60/100\n",
      "45/45 [==============================] - 0s 4ms/step - loss: 7.6080e-06 - accuracy: 1.0000 - val_loss: 0.1144 - val_accuracy: 0.9806\n",
      "Epoch 61/100\n",
      "45/45 [==============================] - 0s 5ms/step - loss: 7.0422e-06 - accuracy: 1.0000 - val_loss: 0.1160 - val_accuracy: 0.9806\n",
      "Epoch 62/100\n",
      "45/45 [==============================] - 0s 5ms/step - loss: 6.4253e-06 - accuracy: 1.0000 - val_loss: 0.1177 - val_accuracy: 0.9806\n",
      "Epoch 63/100\n",
      "45/45 [==============================] - 0s 5ms/step - loss: 5.7727e-06 - accuracy: 1.0000 - val_loss: 0.1196 - val_accuracy: 0.9806\n",
      "Epoch 64/100\n",
      "45/45 [==============================] - 0s 5ms/step - loss: 5.2053e-06 - accuracy: 1.0000 - val_loss: 0.1224 - val_accuracy: 0.9806\n",
      "Epoch 65/100\n",
      "45/45 [==============================] - 0s 5ms/step - loss: 4.7334e-06 - accuracy: 1.0000 - val_loss: 0.1247 - val_accuracy: 0.9806\n",
      "Epoch 66/100\n",
      "45/45 [==============================] - 0s 5ms/step - loss: 4.3169e-06 - accuracy: 1.0000 - val_loss: 0.1273 - val_accuracy: 0.9806\n",
      "Epoch 67/100\n",
      "45/45 [==============================] - 0s 5ms/step - loss: 3.9428e-06 - accuracy: 1.0000 - val_loss: 0.1292 - val_accuracy: 0.9806\n",
      "Epoch 68/100\n",
      "45/45 [==============================] - 0s 5ms/step - loss: 3.6207e-06 - accuracy: 1.0000 - val_loss: 0.1326 - val_accuracy: 0.9806\n",
      "Epoch 69/100\n",
      "45/45 [==============================] - 0s 5ms/step - loss: 3.2584e-06 - accuracy: 1.0000 - val_loss: 0.1347 - val_accuracy: 0.9806\n",
      "Epoch 70/100\n",
      "45/45 [==============================] - 0s 5ms/step - loss: 2.8841e-06 - accuracy: 1.0000 - val_loss: 0.1381 - val_accuracy: 0.9806\n",
      "Epoch 71/100\n",
      "45/45 [==============================] - 0s 4ms/step - loss: 2.5882e-06 - accuracy: 1.0000 - val_loss: 0.1402 - val_accuracy: 0.9806\n",
      "Epoch 72/100\n",
      "45/45 [==============================] - 0s 4ms/step - loss: 2.3400e-06 - accuracy: 1.0000 - val_loss: 0.1430 - val_accuracy: 0.9806\n",
      "Epoch 73/100\n",
      "45/45 [==============================] - 0s 5ms/step - loss: 2.1016e-06 - accuracy: 1.0000 - val_loss: 0.1451 - val_accuracy: 0.9806\n",
      "Epoch 74/100\n",
      "45/45 [==============================] - 0s 5ms/step - loss: 1.9285e-06 - accuracy: 1.0000 - val_loss: 0.1481 - val_accuracy: 0.9806\n",
      "Epoch 75/100\n",
      "45/45 [==============================] - 0s 5ms/step - loss: 1.7240e-06 - accuracy: 1.0000 - val_loss: 0.1506 - val_accuracy: 0.9806\n",
      "Epoch 76/100\n",
      "45/45 [==============================] - 0s 5ms/step - loss: 1.5749e-06 - accuracy: 1.0000 - val_loss: 0.1524 - val_accuracy: 0.9806\n",
      "Epoch 77/100\n",
      "45/45 [==============================] - 0s 4ms/step - loss: 1.4343e-06 - accuracy: 1.0000 - val_loss: 0.1549 - val_accuracy: 0.9806\n",
      "Epoch 78/100\n",
      "45/45 [==============================] - 0s 3ms/step - loss: 1.3017e-06 - accuracy: 1.0000 - val_loss: 0.1579 - val_accuracy: 0.9806\n",
      "Epoch 79/100\n",
      "45/45 [==============================] - 0s 3ms/step - loss: 1.1710e-06 - accuracy: 1.0000 - val_loss: 0.1601 - val_accuracy: 0.9806\n",
      "Epoch 80/100\n",
      "45/45 [==============================] - 0s 4ms/step - loss: 1.0809e-06 - accuracy: 1.0000 - val_loss: 0.1621 - val_accuracy: 0.9806\n",
      "Epoch 81/100\n",
      "45/45 [==============================] - 0s 4ms/step - loss: 1.0029e-06 - accuracy: 1.0000 - val_loss: 0.1639 - val_accuracy: 0.9806\n",
      "Epoch 82/100\n",
      "45/45 [==============================] - 0s 4ms/step - loss: 9.0838e-07 - accuracy: 1.0000 - val_loss: 0.1650 - val_accuracy: 0.9806\n",
      "Epoch 83/100\n",
      "45/45 [==============================] - 0s 3ms/step - loss: 8.3614e-07 - accuracy: 1.0000 - val_loss: 0.1658 - val_accuracy: 0.9806\n",
      "Epoch 84/100\n",
      "45/45 [==============================] - 0s 3ms/step - loss: 7.9434e-07 - accuracy: 1.0000 - val_loss: 0.1667 - val_accuracy: 0.9806\n",
      "Epoch 85/100\n",
      "45/45 [==============================] - 0s 3ms/step - loss: 7.4076e-07 - accuracy: 1.0000 - val_loss: 0.1671 - val_accuracy: 0.9806\n",
      "Epoch 86/100\n",
      "45/45 [==============================] - 0s 4ms/step - loss: 7.2235e-07 - accuracy: 1.0000 - val_loss: 0.1680 - val_accuracy: 0.9806\n",
      "Epoch 87/100\n",
      "45/45 [==============================] - 0s 4ms/step - loss: 6.7407e-07 - accuracy: 1.0000 - val_loss: 0.1685 - val_accuracy: 0.9806\n",
      "Epoch 88/100\n",
      "45/45 [==============================] - 0s 4ms/step - loss: 6.2853e-07 - accuracy: 1.0000 - val_loss: 0.1683 - val_accuracy: 0.9806\n",
      "Epoch 89/100\n",
      "45/45 [==============================] - 0s 4ms/step - loss: 5.8739e-07 - accuracy: 1.0000 - val_loss: 0.1693 - val_accuracy: 0.9806\n",
      "Epoch 90/100\n",
      "45/45 [==============================] - 0s 3ms/step - loss: 5.6947e-07 - accuracy: 1.0000 - val_loss: 0.1701 - val_accuracy: 0.9806\n",
      "Epoch 91/100\n",
      "45/45 [==============================] - 0s 3ms/step - loss: 5.4815e-07 - accuracy: 1.0000 - val_loss: 0.1709 - val_accuracy: 0.9806\n",
      "Epoch 92/100\n",
      "45/45 [==============================] - 0s 4ms/step - loss: 5.0933e-07 - accuracy: 1.0000 - val_loss: 0.1715 - val_accuracy: 0.9806\n",
      "Epoch 93/100\n",
      "45/45 [==============================] - 0s 3ms/step - loss: 4.8088e-07 - accuracy: 1.0000 - val_loss: 0.1724 - val_accuracy: 0.9806\n",
      "Epoch 94/100\n",
      "45/45 [==============================] - 0s 4ms/step - loss: 4.6645e-07 - accuracy: 1.0000 - val_loss: 0.1730 - val_accuracy: 0.9806\n",
      "Epoch 95/100\n",
      "45/45 [==============================] - 0s 3ms/step - loss: 4.4480e-07 - accuracy: 1.0000 - val_loss: 0.1734 - val_accuracy: 0.9806\n",
      "Epoch 96/100\n",
      "45/45 [==============================] - 0s 4ms/step - loss: 4.2555e-07 - accuracy: 1.0000 - val_loss: 0.1746 - val_accuracy: 0.9806\n",
      "Epoch 97/100\n",
      "45/45 [==============================] - 0s 4ms/step - loss: 4.0208e-07 - accuracy: 1.0000 - val_loss: 0.1748 - val_accuracy: 0.9806\n",
      "Epoch 98/100\n",
      "45/45 [==============================] - 0s 3ms/step - loss: 3.8997e-07 - accuracy: 1.0000 - val_loss: 0.1755 - val_accuracy: 0.9806\n",
      "Epoch 99/100\n",
      "45/45 [==============================] - 0s 3ms/step - loss: 3.7280e-07 - accuracy: 1.0000 - val_loss: 0.1758 - val_accuracy: 0.9806\n",
      "Epoch 100/100\n",
      "45/45 [==============================] - 0s 4ms/step - loss: 3.6085e-07 - accuracy: 1.0000 - val_loss: 0.1769 - val_accuracy: 0.9806\n",
      "12/12 [==============================] - 0s 1ms/step\n"
     ]
    }
   ],
   "source": [
    "#fitting the model and predicting \n",
    "\n",
    "# fit network\n",
    "model_history=model.fit(x=X_train, y=y_train, epochs=100, batch_size=32,validation_data= (X_test,y_test))\n",
    "y_pred = model.predict(X_test)\n",
    "\n",
    "y_test_class = np.argmax(y_test,axis=1)\n",
    "y_pred_class = np.argmax(y_pred,axis=1)"
   ]
  },
  {
   "cell_type": "code",
   "execution_count": 22,
   "id": "10a0bf5c",
   "metadata": {},
   "outputs": [
    {
     "data": {
      "image/png": "[encoded data removed]",
      "text/plain": [
       "<Figure size 640x480 with 1 Axes>"
      ]
     },
     "metadata": {},
     "output_type": "display_data"
    }
   ],
   "source": [
    "import matplotlib.pyplot as plt\n",
    "import seaborn as sns\n",
    "\n",
    "loss =model_history.history['loss']\n",
    "val_loss =model_history.history['val_loss']\n",
    "epochs = range(1, len(loss) + 1)\n",
    "plt.plot(epochs, loss, 'y', label='Training loss')\n",
    "plt.plot(epochs, val_loss, 'r', label='Validation loss')\n",
    "plt.title('Training and validation loss')\n",
    "plt.xlabel('Epochs')\n",
    "plt.ylabel('Loss')\n",
    "plt.legend()\n",
    "plt.show()"
   ]
  },
  {
   "cell_type": "code",
   "execution_count": 23,
   "id": "9d65d338",
   "metadata": {},
   "outputs": [
    {
     "data": {
      "image/png": "[encoded data removed]",
      "text/plain": [
       "<Figure size 640x480 with 1 Axes>"
      ]
     },
     "metadata": {},
     "output_type": "display_data"
    }
   ],
   "source": [
    "acc =model_history.history['accuracy']\n",
    "val_acc =model_history.history['val_accuracy']\n",
    "plt.plot(epochs, acc, 'y', label='Training acc')\n",
    "plt.plot(epochs, val_acc, 'r', label='Validation acc')\n",
    "plt.title('Training and validation accuracy')\n",
    "plt.xlabel('Epochs')\n",
    "plt.ylabel('Accuracy')\n",
    "plt.legend()\n",
    "plt.show()"
   ]
  },
  {
   "cell_type": "code",
   "execution_count": 24,
   "id": "0e231e4d",
   "metadata": {},
   "outputs": [
    {
     "name": "stdout",
     "output_type": "stream",
     "text": [
      "              precision    recall  f1-score   support\n",
      "\n",
      "           0       1.00      1.00      1.00        27\n",
      "           1       0.94      0.94      0.94        35\n",
      "           2       1.00      1.00      1.00        36\n",
      "           3       1.00      1.00      1.00        29\n",
      "           4       0.97      1.00      0.98        30\n",
      "           5       0.97      0.97      0.97        40\n",
      "           6       1.00      0.98      0.99        44\n",
      "           7       1.00      0.97      0.99        39\n",
      "           8       0.97      0.97      0.97        39\n",
      "           9       0.95      0.98      0.96        41\n",
      "\n",
      "    accuracy                           0.98       360\n",
      "   macro avg       0.98      0.98      0.98       360\n",
      "weighted avg       0.98      0.98      0.98       360\n",
      "\n",
      "[[27  0  0  0  0  0  0  0  0  0]\n",
      " [ 0 33  0  0  0  0  0  0  1  1]\n",
      " [ 0  0 36  0  0  0  0  0  0  0]\n",
      " [ 0  0  0 29  0  0  0  0  0  0]\n",
      " [ 0  0  0  0 30  0  0  0  0  0]\n",
      " [ 0  0  0  0  0 39  0  0  0  1]\n",
      " [ 0  1  0  0  0  0 43  0  0  0]\n",
      " [ 0  0  0  0  1  0  0 38  0  0]\n",
      " [ 0  1  0  0  0  0  0  0 38  0]\n",
      " [ 0  0  0  0  0  1  0  0  0 40]]\n"
     ]
    }
   ],
   "source": [
    "#Accuracy of the predicted values\n",
    "from sklearn.metrics import classification_report,confusion_matrix\n",
    "print(classification_report(y_test_class,y_pred_class))\n",
    "print(confusion_matrix(y_test_class,y_pred_class))"
   ]
  },
  {
   "cell_type": "code",
   "execution_count": null,
   "id": "a624bba4",
   "metadata": {},
   "outputs": [],
   "source": []
  }
 ],
 "metadata": {
  "kernelspec": {
   "display_name": "Python 3 (ipykernel)",
   "language": "python",
   "name": "python3"
  },
  "language_info": {
   "codemirror_mode": {
    "name": "ipython",
    "version": 3
   },
   "file_extension": ".py",
   "mimetype": "text/x-python",
   "name": "python",
   "nbconvert_exporter": "python",
   "pygments_lexer": "ipython3",
   "version": "3.9.13"
  }
 },
 "nbformat": 4,
 "nbformat_minor": 5
}
