{
  "nbformat": 4,
  "nbformat_minor": 0,
  "metadata": {
    "colab": {
      "private_outputs": true,
      "provenance": [],
      "authorship_tag": "ABX9TyPo8O2jtYXw/JCFDjWGjLOV",
      "include_colab_link": true
    },
    "kernelspec": {
      "name": "python3",
      "display_name": "Python 3"
    },
    "language_info": {
      "name": "python"
    },
    "accelerator": "GPU",
    "gpuClass": "standard"
  },
  "cells": [
    {
      "cell_type": "markdown",
      "metadata": {
        "id": "view-in-github",
        "colab_type": "text"
      },
      "source": [
        "<a href=\"https://colab.research.google.com/github/vlrhsgody/AI/blob/main/Colab.ipynb\" target=\"_parent\"><img src=\"https://colab.research.google.com/assets/colab-badge.svg\" alt=\"Open In Colab\"/></a>"
      ]
    },
    {
      "cell_type": "code",
      "execution_count": null,
      "metadata": {
        "id": "ITlWqTBpt2Ji"
      },
      "outputs": [],
      "source": [
        "from sklearn.datasets import load_breast_cancer\n",
        "\n",
        "import pandas as pd\n",
        "\n",
        "breast_cancer_data = load_breast_cancer()\n",
        "\n",
        "df_data = pd.DataFrame(breast_cancer_data.data)\n",
        "\n",
        "df_labels = pd.DataFrame(breast_cancer_data.target)\n",
        "print(df_data[0:9])\n",
        "print(df_labels[0:9])\n",
        "\n",
        "\n",
        "print(breast_cancer_data.target_names)\n",
        "import numpy as np\n",
        "\n",
        "np.random.seed(42)\n",
        "index = np.arrange(49)\n",
        "np.random.shuffle(index)\n",
        "\n",
        "X_train = input_arr"
      ]
    },
    {
      "cell_type": "code",
      "source": [
        "import numpy as np\n",
        "import pandas as pd\n",
        "import matplotlib.pylot as plt\n",
        "from sklearn.model_selection import train_test_split\n",
        "from sklearn.datasets import load_breast_cancer\n",
        "df_data = pd.DataFrame(breast_cancer_data.data)\n",
        "\n",
        "df_labels = pd.DataFrame(breast_cancer_data.target)\n",
        "\n",
        "# (숙제 : data와 labels 열개만 출력해서 실제 값을 확인하세요)\n",
        "print(df_data[:10])\n",
        "print(df_labels[:10])\n",
        "\n",
        "\n",
        "\n",
        "print(breast_cancer_data.target_names)\n",
        "# (X_train, y_train, X_test, y_test 로 훈련과 테스트 데이터를 8:2로 나누기)\n",
        "print(len(df_data))\n",
        "print(len(df_labels))\n",
        "\n",
        "\n",
        "print(\"X_train.shape :\", X_train.shape)\n",
        "\n",
        "print(\"y_train.shape :\", y_train.shape)\n",
        "\n",
        "print(\"X_test.shape:\", X_test.shape)\n",
        "\n",
        "print(\"y_test.shape:\", y_train.shape)\n",
        "\n",
        "\n",
        "\n",
        "#(KNN 알고리즘 모델 만들기, K값은 3을 사용)\n",
        "\n",
        "#(KNN 모델 훈련)\n",
        "\n",
        "\n",
        "\n",
        "mymodel.fit(X_train, y_train)\n",
        "\n",
        "# 예측\n",
        "\n",
        "prediction = mymodel.predict(X_test)\n",
        "\n",
        "mymodel.score(X_test, y_test)\n"
      ],
      "metadata": {
        "id": "ASshMHgnxYD3"
      },
      "execution_count": null,
      "outputs": []
    },
    {
      "cell_type": "code",
      "source": [
        "import numpy as np\n",
        "import pandas as pd\n",
        "import matplotlib\n",
        "matplotlib.use('Agg')\n",
        "\n",
        "import matplotlib.pyplot as plt\n",
        "from sklearn.model_selection import train_test_split\n",
        "from sklearn.datasets import load_breast_cancer\n",
        "df_data = pd.DataFrame(breast_cancer_data.data)\n",
        "\n",
        "df_labels = pd.DataFrame(breast_cancer_data.target)\n",
        "\n",
        "# (숙제 : data와 labels 열개만 출력해서 실제 값을 확인하세요)\n",
        "print(df_data[:10])\n",
        "print(df_labels[:10])\n",
        "\n",
        "\n",
        "\n",
        "print(breast_cancer_data.target_names)\n",
        "# (X_train, y_train, X_test, y_test 로 훈련과 테스트 데이터를 8:2로 나누기)\n",
        "print(len(df_data))\n",
        "#569\n",
        "print(len(df_labels))\n",
        "#569\n",
        "\n",
        "\n",
        "print(input_arr)\n",
        "print(target_arr)\n",
        "index = np.arrange(569)\n",
        "np.random.shuffle(index)\n",
        "X_train_shape = input_arr[index[:456]]\n",
        "y_train_shape = input_arr[index[:456]]\n",
        "X_train_shape = input_arr[index[456:]]\n",
        "y_train_shape = input_arr[index[456:]]\n",
        "\n",
        "print(\"X_train.shape :\", X_train.shape)\n",
        "\n",
        "print(\"y_train.shape :\", y_train.shape)\n",
        "\n",
        "print(\"X_test.shape:\", X_test.shape)\n",
        "\n",
        "print(\"y_test.shape:\", y_train.shape)\n",
        "\n",
        "\n",
        "\n",
        "#(KNN 알고리즘 모델 만들기, K값은 3을 사용)\n",
        "\n",
        "#(KNN 모델 훈련)\n",
        "\n",
        "\n",
        "\n",
        "mymodel.fit(X_train, y_train)\n",
        "\n",
        "# 예측\n",
        "\n",
        "prediction = mymodel.predict(X_test)\n",
        "\n",
        "mymodel.score(X_test, y_test)\n"
      ],
      "metadata": {
        "id": "VKHDx9hQK9OP"
      },
      "execution_count": null,
      "outputs": []
    },
    {
      "cell_type": "code",
      "source": [
        "import numpy as np\n",
        "import pandas as pd\n",
        "import matplotlib\n",
        "matplotlib.use('Agg')\n",
        "\n",
        "import matplotlib.pyplot as plt\n",
        "from sklearn.model_selection import train_test_split\n",
        "from sklearn.datasets import load_breast_cancer\n",
        "df_data = pd.DataFrame(breast_cancer_data.data)\n",
        "\n",
        "df_labels = pd.DataFrame(breast_cancer_data.target)\n",
        "\n",
        "# (숙제 : data와 labels 열개만 출력해서 실제 값을 확인하세요)\n",
        "print(df_data[:10])\n",
        "print(df_labels[:10])\n"
      ],
      "metadata": {
        "id": "gFieW9oYLUVq"
      },
      "execution_count": null,
      "outputs": []
    },
    {
      "cell_type": "code",
      "source": [
        "print(breast_cancer_data.target_names)\n",
        "# (X_train, y_train, X_test, y_test 로 훈련과 테스트 데이터를 8:2로 나누기)\n",
        "print(len(df_data))\n",
        "#569\n",
        "print(len(df_labels))\n",
        "#569\n",
        "\n",
        "\n",
        "print(input_arr)\n",
        "print(target_arr)\n",
        "index = np.arrange(569)\n",
        "np.random.shuffle(index)"
      ],
      "metadata": {
        "id": "PiLfJV4-U-YW"
      },
      "execution_count": null,
      "outputs": []
    },
    {
      "cell_type": "code",
      "source": [
        "print(breast_cancer_data.target_names)\n",
        "# (X_train, y_train, X_test, y_test 로 훈련과 테스트 데이터를 8:2로 나누기)\n",
        "print(len(df_data))\n",
        "#569\n",
        "print(len(df_labels))\n",
        "#569\n",
        "\n",
        "\n",
        "print(input_arr)\n",
        "print(target_arr)\n",
        "index = np.arange(569)\n",
        "np.random.shuffle(index)"
      ],
      "metadata": {
        "id": "FM6Mum5kVGvJ"
      },
      "execution_count": null,
      "outputs": []
    },
    {
      "cell_type": "code",
      "source": [
        "X_train.shape = df_data[index[:456]]\n",
        "y_train.shape= df_label[index[:456]]\n",
        "X_test.shape = df_data[index[456:]]\n",
        "y_train.shape = df_label[index[456:]]\n",
        "print(\"X_train.shape :\", X_train.shape)\n",
        "\n",
        "print(\"y_train.shape :\", y_train.shape)\n",
        "\n",
        "print(\"X_test.shape:\", X_test.shape)\n",
        "\n",
        "print(\"y_test.shape:\", y_train.shape)"
      ],
      "metadata": {
        "id": "DZQkZDd1VqgC"
      },
      "execution_count": null,
      "outputs": []
    },
    {
      "cell_type": "code",
      "source": [
        "import numpy as np\n",
        "import pandas as pd\n",
        "import matplotlib\n",
        "matplotlib.use('Agg')\n",
        "\n",
        "import matplotlib.pyplot as plt\n",
        "from sklearn.model_selection import train_test_split\n",
        "from sklearn.neighbors import KNeighborsClassifier\n",
        "from sklearn.datasets import load_breast_cancer\n",
        "\n",
        "breast_cancer_data = load_breast_cancer()\n",
        "df_data = pd.DataFrame(breast_cancer_data.data)\n",
        "df_labels = pd.DataFrame(breast_cancer_data.target)\n",
        "\n",
        "# (숙제 : data와 labels 열개만 출력해서 실제 값을 확인하세요)\n",
        "print(df_data[:10])\n",
        "print(df_labels[:10])\n",
        "\n",
        "\n",
        "print(breast_cancer_data.target_names)\n",
        "# (X_train, y_train, X_test, y_test 로 훈련과 테스트 데이터를 8:2로 나누기)\n",
        "#569\n",
        "\n",
        "index = np.arange(569)\n",
        "X = df_data\n",
        "y = df_labels \n",
        "\n",
        "X_train, X_test, y_train, y_test = train_test_split(X, y, test_size= 0.2, random_state=6)\n",
        "\n",
        "print(\"X_train.shape :\", X_train.shape)\n",
        "\n",
        "print(\"y_train.shape :\", y_train.shape)\n",
        "\n",
        "print(\"X_test.shape:\", X_test.shape)\n",
        "\n",
        "print(\"y_test.shape:\", y_train.shape)\n",
        "\n",
        "# (KNN 알고리즘 모델 만들기, K값은 3을 사용)\n",
        "# (KNN 모델 훈련)\n",
        "\n",
        "for k in range(1, 51) :\n",
        "  kn = KNeighborsClassifier()\n",
        "  kn = KNeighborsClassifier(n_neighbors=k)\n",
        "  kn.fit(X_train, y_train)\n",
        "  prediction = kn.predict(X_test)\n",
        "  ac = kn.score(X_test, y_test)\n",
        "  print(ac)\n",
        "\n",
        "# 예측\n",
        "\n",
        "prediction = kn.predict(X_test)\n",
        "kn.score(X_test, y_test)\n",
        "print(\"테스트 세트 정확도: {:.2f}\".format(kn.score(X_test, y_test)))\n"
      ],
      "metadata": {
        "id": "JkIl8FOLXRaw"
      },
      "execution_count": null,
      "outputs": []
    },
    {
      "cell_type": "code",
      "source": [],
      "metadata": {
        "id": "rk15l4O_YA1E"
      },
      "execution_count": null,
      "outputs": []
    }
  ]
}