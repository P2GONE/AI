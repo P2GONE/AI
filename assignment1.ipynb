{
  "nbformat": 4,
  "nbformat_minor": 0,
  "metadata": {
    "colab": {
      "private_outputs": true,
      "provenance": [],
      "authorship_tag": "ABX9TyNb9uy0JWsHuOfprawjypwn",
      "include_colab_link": true
    },
    "kernelspec": {
      "name": "python3",
      "display_name": "Python 3"
    },
    "language_info": {
      "name": "python"
    },
    "accelerator": "GPU",
    "gpuClass": "standard"
  },
  "cells": [
    {
      "cell_type": "markdown",
      "metadata": {
        "id": "view-in-github",
        "colab_type": "text"
      },
      "source": [
        "<a href=\"https://colab.research.google.com/github/vlrhsgody/AI/blob/main/assignment1.ipynb\" target=\"_parent\"><img src=\"https://colab.research.google.com/assets/colab-badge.svg\" alt=\"Open In Colab\"/></a>"
      ]
    },
    {
      "cell_type": "code",
      "source": [
        "import numpy as np\n",
        "import pandas as pd\n",
        "import matplotlib\n",
        "matplotlib.use('Agg')\n",
        "\n",
        "import matplotlib.pyplot as plt\n",
        "from sklearn.model_selection import train_test_split\n",
        "from sklearn.neighbors import KNeighborsClassifier\n",
        "from sklearn.datasets import load_breast_cancer\n",
        "\n",
        "breast_cancer_data = load_breast_cancer()\n",
        "df_data = pd.DataFrame(breast_cancer_data.data)\n",
        "df_labels = pd.DataFrame(breast_cancer_data.target)\n",
        "\n",
        "# (숙제 : data와 labels 열개만 출력해서 실제 값을 확인하세요)\n",
        "print(df_data[:10])\n",
        "print(df_labels[:10])\n",
        "\n",
        "\n",
        "print(breast_cancer_data.target_names)\n",
        "# (X_train, y_train, X_test, y_test 로 훈련과 테스트 데이터를 8:2로 나누기)\n",
        "#569\n",
        "\n",
        "index = np.arange(569)\n",
        "X = df_data\n",
        "y = df_labels \n",
        "\n",
        "X_train, X_test, y_train, y_test = train_test_split(X, y, test_size= 0.2, random_state=6)\n",
        "\n",
        "print(\"X_train.shape :\", X_train.shape)\n",
        "\n",
        "print(\"y_train.shape :\", y_train.shape)\n",
        "\n",
        "print(\"X_test.shape:\", X_test.shape)\n",
        "\n",
        "print(\"y_test.shape:\", y_train.shape)\n",
        "\n",
        "# (KNN 알고리즘 모델 만들기, K값은 3을 사용)\n",
        "# (KNN 모델 훈련)\n",
        "\n",
        "for k in range(1, 51) :\n",
        "  kn = KNeighborsClassifier()\n",
        "  kn = KNeighborsClassifier(n_neighbors=k)\n",
        "  kn.fit(X_train, y_train)\n",
        "  prediction = kn.predict(X_test)\n",
        "  ac = kn.score(X_test, y_test)\n",
        "  print(ac)\n",
        "\n",
        "# 예측\n",
        "# k=21일 때 가장 테스트 정확도가 높음.\n",
        "prediction = kn.predict(X_test)\n",
        "kn.score(X_test, y_test)\n",
        "print(\"테스트 세트 정확도: {:.2f}\".format(kn.score(X_test, y_test)))\n"
      ],
      "metadata": {
        "id": "JkIl8FOLXRaw"
      },
      "execution_count": null,
      "outputs": []
    },
    {
      "cell_type": "code",
      "source": [
        "import numpy as np\n",
        "import pandas as pd\n",
        "import matplotlib\n",
        "matplotlib.use('Agg')\n",
        "\n",
        "import matplotlib.pyplot as plt\n",
        "from sklearn.model_selection import train_test_split\n",
        "from sklearn.neighbors import KNeighborsClassifier\n",
        "from sklearn.datasets import load_breast_cancer\n",
        "\n",
        "breast_cancer_data = load_breast_cancer()\n",
        "df_data = pd.DataFrame(breast_cancer_data.data)\n",
        "df_labels = pd.DataFrame(breast_cancer_data.target)\n",
        "\n",
        "# (숙제 : data와 labels 열개만 출력해서 실제 값을 확인하세요)\n",
        "print(df_data[:10])\n",
        "print(df_labels[:10])\n",
        "\n",
        "\n",
        "print(breast_cancer_data.target_names)\n",
        "# (X_train, y_train, X_test, y_test 로 훈련과 테스트 데이터를 8:2로 나누기)\n",
        "#569\n",
        "\n",
        "index = np.arange(569)\n",
        "X = df_data\n",
        "y = df_labels \n",
        "\n",
        "X_train, X_test, y_train, y_test = train_test_split(X, y, test_size= 0.2, random_state=1234)\n",
        "\n",
        "print(\"X_train.shape :\", X_train.shape)\n",
        "\n",
        "print(\"y_train.shape :\", y_train.shape)\n",
        "\n",
        "print(\"X_test.shape:\", X_test.shape)\n",
        "\n",
        "print(\"y_test.shape:\", y_train.shape)\n",
        "\n",
        "# (KNN 알고리즘 모델 만들기, K값은 3을 사용)\n",
        "# (KNN 모델 훈련)\n",
        "\n",
        "\n",
        "k = 3\n",
        "kn = KNeighborsClassifier()\n",
        "kn = KNeighborsClassifier(n_neighbors=3)\n",
        "kn.fit(X_train, y_train)\n",
        "prediction = kn.predict(X_test)\n",
        "\n",
        "\n",
        "\n",
        "\n",
        "kn.fit(X_train, y_train)\n",
        "\n",
        "# 예측\n",
        "\n",
        "prediction = kn.predict(X_test)\n",
        "kn.score(X_test, y_test)\n",
        "print(\"테스트 세트 정확도: {:.2f}\".format(kn.score(X_test, y_test)))\n"
      ],
      "metadata": {
        "id": "Vf4DK1zFMDkn"
      },
      "execution_count": null,
      "outputs": []
    },
    {
      "cell_type": "code",
      "source": [],
      "metadata": {
        "id": "rk15l4O_YA1E"
      },
      "execution_count": null,
      "outputs": []
    }
  ]
}